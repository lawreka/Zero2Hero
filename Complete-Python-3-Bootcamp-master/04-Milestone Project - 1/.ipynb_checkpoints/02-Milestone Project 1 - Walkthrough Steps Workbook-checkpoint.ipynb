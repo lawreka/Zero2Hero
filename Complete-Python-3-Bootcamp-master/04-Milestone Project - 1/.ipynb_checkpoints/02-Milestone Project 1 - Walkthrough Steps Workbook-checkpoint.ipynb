{
 "cells": [
  {
   "cell_type": "markdown",
   "metadata": {},
   "source": [
    "# Milestone Project 1: Walkthrough Steps Workbook\n",
    "\n",
    "Below is a set of steps for you to follow to try to create the Tic Tac Toe Milestone Project game!"
   ]
  },
  {
   "cell_type": "markdown",
   "metadata": {},
   "source": [
    "#### Some suggested tools before you get started:\n",
    "To take input from a user:\n",
    "\n",
    "    player1 = input(\"Please pick a marker 'X' or 'O'\")\n",
    "    \n",
    "Note that input() takes in a string. If you need an integer value, use\n",
    "\n",
    "    position = int(input('Please enter a number'))\n",
    "    \n",
    "<br>To clear the screen between moves:\n",
    "\n",
    "    from IPython.display import clear_output\n",
    "    clear_output()\n",
    "    \n",
    "Note that clear_output() will only work in jupyter. To clear the screen in other IDEs, consider:\n",
    "\n",
    "    print('\\n'*100)\n",
    "    \n",
    "This scrolls the previous board up out of view. Now on to the program!"
   ]
  },
  {
   "cell_type": "markdown",
   "metadata": {},
   "source": [
    "**Step 1: Write a function that can print out a board. Set up your board as a list, where each index 1-9 corresponds with a number on a number pad, so you get a 3 by 3 board representation.**"
   ]
  },
  {
   "cell_type": "code",
   "execution_count": 12,
   "metadata": {},
   "outputs": [
    {
     "name": "stdout",
     "output_type": "stream",
     "text": [
      "  X  |  O  |  X   \n",
      " –––––––––––––––\n",
      "  O  |  X  |  O   \n",
      " –––––––––––––––\n",
      "  X  |  O  |  X  "
     ]
    }
   ],
   "source": [
    "from IPython.display import clear_output\n",
    "\n",
    "def display_board(board):\n",
    "    top = {\"1\": f\"  {board[1]}  |\", \"2\": f\" {board[2]}  |\", \"3\": f\" {board[3]}  \"}\n",
    "    middle = {\"4\": f\"  {board[4]}  |\", \"5\": f\" {board[5]}  |\", \"6\": f\" {board[6]}  \"}\n",
    "    bottom = {\"7\": f\"  {board[7]}  |\", \"8\": f\" {board[8]}  |\", \"9\": f\" {board[9]} \"}\n",
    "    divider = \"–––––––––––––––\"\n",
    "    for i in top:\n",
    "        print(top[i], end=\" \")\n",
    "    print(f'\\n {divider}')\n",
    "    for i in middle:\n",
    "        print(middle[i], end=\" \")\n",
    "    print(f'\\n {divider}')\n",
    "    for i in bottom:\n",
    "        print(bottom[i], end=\" \")\n",
    "test_board = ['#','X','O','X','O','X','O','X','O','X']\n",
    "display_board(test_board)"
   ]
  },
  {
   "cell_type": "markdown",
   "metadata": {},
   "source": [
    "**TEST Step 1:** run your function on a test version of the board list, and make adjustments as necessary"
   ]
  },
  {
   "cell_type": "code",
   "execution_count": 62,
   "metadata": {},
   "outputs": [
    {
     "name": "stdout",
     "output_type": "stream",
     "text": [
      "  O  |  O  |  O   \n",
      " –––––––––––––––\n",
      "  X  |  X  |  X   \n",
      " –––––––––––––––\n",
      "  O  |  X  |  O  "
     ]
    }
   ],
   "source": [
    "test_board = ['#','-','O','O','X','X','X','O','X','O']\n",
    "display_board(test_board)"
   ]
  },
  {
   "cell_type": "markdown",
   "metadata": {},
   "source": [
    "**Step 2: Write a function that can take in a player input and assign their marker as 'X' or 'O'. Think about using *while* loops to continually ask until you get a correct answer.**"
   ]
  },
  {
   "cell_type": "code",
   "execution_count": 14,
   "metadata": {},
   "outputs": [],
   "source": [
    "def player_input():\n",
    "    player1 = input(\"Please pick a marker 'X' or 'O'\")\n",
    "    while player1 is not 'X' and player1 is not 'O':\n",
    "        player1 = input(\"Please pick a marker 'X' or 'O'\")\n",
    "    else:\n",
    "        print(f'You picked {player1}')"
   ]
  },
  {
   "cell_type": "markdown",
   "metadata": {},
   "source": [
    "**TEST Step 2:** run the function to make sure it returns the desired output"
   ]
  },
  {
   "cell_type": "code",
   "execution_count": 15,
   "metadata": {},
   "outputs": [
    {
     "name": "stdout",
     "output_type": "stream",
     "text": [
      "Please pick a marker 'X' or 'O'X\n",
      "You picked X\n"
     ]
    }
   ],
   "source": [
    "player_input()"
   ]
  },
  {
   "cell_type": "markdown",
   "metadata": {},
   "source": [
    "**Step 3: Write a function that takes in the board list object, a marker ('X' or 'O'), and a desired position (number 1-9) and assigns it to the board.**"
   ]
  },
  {
   "cell_type": "code",
   "execution_count": 33,
   "metadata": {},
   "outputs": [],
   "source": [
    "def place_marker(board, marker, position):\n",
    "    board[position] = marker"
   ]
  },
  {
   "cell_type": "markdown",
   "metadata": {},
   "source": [
    "**TEST Step 3:** run the place marker function using test parameters and display the modified board"
   ]
  },
  {
   "cell_type": "code",
   "execution_count": 52,
   "metadata": {},
   "outputs": [
    {
     "name": "stdout",
     "output_type": "stream",
     "text": [
      "  -  |  -  |  -   \n",
      " –––––––––––––––\n",
      "  X  |  X  |  X   \n",
      " –––––––––––––––\n",
      "  -  |  $  |  -  "
     ]
    }
   ],
   "source": [
    "place_marker(test_board,'$',8)\n",
    "display_board(test_board)"
   ]
  },
  {
   "cell_type": "markdown",
   "metadata": {},
   "source": [
    "**Step 4: Write a function that takes in a board and a mark (X or O) and then checks to see if that mark has won. **"
   ]
  },
  {
   "cell_type": "code",
   "execution_count": 37,
   "metadata": {},
   "outputs": [],
   "source": [
    "def win_check(board, mark):\n",
    "    if board[1] == board[2] == board[3] == mark:\n",
    "        print(f'{mark} wins, top row')\n",
    "    elif board[4] == board[5] == board[6] == mark:\n",
    "        print(f'{mark} wins, middle row')\n",
    "    elif board[7] == board[8] == board[9] == mark:\n",
    "        print(f'{mark} wins, bottom row')\n",
    "    elif board[1] == board[4] == board[7] == mark:\n",
    "        print(f'{mark} wins, first col')\n",
    "    elif board[2] == board[5] == board[8] == mark:\n",
    "        print(f'{mark} wins, second col')\n",
    "    elif board[3] == board[6] == board[9] == mark:\n",
    "        print(f'{mark} wins, third col')\n",
    "    elif board[1] == board[5] == board[9] == mark:\n",
    "        print(f'{mark} wins, diagonally')\n",
    "    elif board[3] == board[5] == board[7] == mark:\n",
    "        print(f'{mark} wins, diagonally')\n",
    "    else:\n",
    "        print('nope')"
   ]
  },
  {
   "cell_type": "markdown",
   "metadata": {},
   "source": [
    "**TEST Step 4:** run the win_check function against our test_board - it should return True"
   ]
  },
  {
   "cell_type": "code",
   "execution_count": 53,
   "metadata": {},
   "outputs": [
    {
     "name": "stdout",
     "output_type": "stream",
     "text": [
      "X wins, middle row\n"
     ]
    }
   ],
   "source": [
    "win_check(test_board,'X')"
   ]
  },
  {
   "cell_type": "markdown",
   "metadata": {},
   "source": [
    "**Step 5: Write a function that uses the random module to randomly decide which player goes first. You may want to lookup random.randint() Return a string of which player went first.**"
   ]
  },
  {
   "cell_type": "code",
   "execution_count": 47,
   "metadata": {},
   "outputs": [
    {
     "data": {
      "text/plain": [
       "2"
      ]
     },
     "execution_count": 47,
     "metadata": {},
     "output_type": "execute_result"
    }
   ],
   "source": [
    "import random\n",
    "\n",
    "def choose_first():\n",
    "    first = random.randint(1,2)\n",
    "    return first\n",
    "choose_first()"
   ]
  },
  {
   "cell_type": "markdown",
   "metadata": {},
   "source": [
    "**Step 6: Write a function that returns a boolean indicating whether a space on the board is freely available.**"
   ]
  },
  {
   "cell_type": "code",
   "execution_count": 74,
   "metadata": {},
   "outputs": [
    {
     "name": "stdout",
     "output_type": "stream",
     "text": [
      "  O  |  O  |  O   \n",
      " –––––––––––––––\n",
      "  X  |  X  |  X   \n",
      " –––––––––––––––\n",
      "  O  |  X  |  O  "
     ]
    }
   ],
   "source": [
    "def space_check(board, position):\n",
    "    position = int(position)\n",
    "    if board[position] == 'X':\n",
    "        check = False\n",
    "    elif board[position] == 'O':\n",
    "        check = False\n",
    "    else:\n",
    "        check = True\n",
    "space_check(test_board, 1)\n",
    "display_board(test_board)"
   ]
  },
  {
   "cell_type": "markdown",
   "metadata": {},
   "source": [
    "**Step 7: Write a function that checks if the board is full and returns a boolean value. True if full, False otherwise.**"
   ]
  },
  {
   "cell_type": "code",
   "execution_count": 75,
   "metadata": {},
   "outputs": [
    {
     "data": {
      "text/plain": [
       "True"
      ]
     },
     "execution_count": 75,
     "metadata": {},
     "output_type": "execute_result"
    }
   ],
   "source": [
    "def full_board_check(board):\n",
    "    full = True\n",
    "    for space in board:\n",
    "        if space == 'X': \n",
    "            full = True\n",
    "        elif space == 'O':\n",
    "            full = True\n",
    "        else:\n",
    "            full = False\n",
    "    return full\n",
    "full_board_check(test_board)"
   ]
  },
  {
   "cell_type": "markdown",
   "metadata": {},
   "source": [
    "**Step 8: Write a function that asks for a player's next position (as a number 1-9) and then uses the function from step 6 to check if it's a free position. If it is, then return the position for later use.**"
   ]
  },
  {
   "cell_type": "code",
   "execution_count": 76,
   "metadata": {},
   "outputs": [
    {
     "name": "stdout",
     "output_type": "stream",
     "text": [
      "Choose your next move1\n",
      "That space is taken\n"
     ]
    }
   ],
   "source": [
    "def player_choice(board):\n",
    "    position = input(\"Choose your next move\")\n",
    "    if space_check(board, position):\n",
    "        return position\n",
    "    else:\n",
    "        print(\"That space is taken\")\n",
    "player_choice(test_board)"
   ]
  },
  {
   "cell_type": "markdown",
   "metadata": {},
   "source": [
    "**Step 9: Write a function that asks the player if they want to play again and returns a boolean True if they do want to play again.**"
   ]
  },
  {
   "cell_type": "code",
   "execution_count": null,
   "metadata": {},
   "outputs": [],
   "source": [
    "def replay():\n",
    "    \n",
    "    pass"
   ]
  },
  {
   "cell_type": "markdown",
   "metadata": {
    "collapsed": true
   },
   "source": [
    "**Step 10: Here comes the hard part! Use while loops and the functions you've made to run the game!**"
   ]
  },
  {
   "cell_type": "code",
   "execution_count": null,
   "metadata": {},
   "outputs": [],
   "source": [
    "print('Welcome to Tic Tac Toe!')\n",
    "\n",
    "#while True:\n",
    "    # Set the game up here\n",
    "    #pass\n",
    "\n",
    "    #while game_on:\n",
    "        #Player 1 Turn\n",
    "        \n",
    "        \n",
    "        # Player2's turn.\n",
    "            \n",
    "            #pass\n",
    "\n",
    "    #if not replay():\n",
    "        #break"
   ]
  },
  {
   "cell_type": "markdown",
   "metadata": {
    "collapsed": true
   },
   "source": [
    "## Good Job!"
   ]
  }
 ],
 "metadata": {
  "kernelspec": {
   "display_name": "Python 3",
   "language": "python",
   "name": "python3"
  }
 },
 "nbformat": 4,
 "nbformat_minor": 1
}
