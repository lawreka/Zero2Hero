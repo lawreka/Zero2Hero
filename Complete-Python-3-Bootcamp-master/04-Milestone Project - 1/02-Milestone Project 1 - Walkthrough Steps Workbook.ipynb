{
 "cells": [
  {
   "cell_type": "markdown",
   "metadata": {},
   "source": [
    "# Milestone Project 1: Walkthrough Steps Workbook\n",
    "\n",
    "Below is a set of steps for you to follow to try to create the Tic Tac Toe Milestone Project game!"
   ]
  },
  {
   "cell_type": "markdown",
   "metadata": {},
   "source": [
    "#### Some suggested tools before you get started:\n",
    "To take input from a user:\n",
    "\n",
    "    player1 = input(\"Please pick a marker 'X' or 'O'\")\n",
    "    \n",
    "Note that input() takes in a string. If you need an integer value, use\n",
    "\n",
    "    position = int(input('Please enter a number'))\n",
    "    \n",
    "<br>To clear the screen between moves:\n",
    "\n",
    "    from IPython.display import clear_output\n",
    "    clear_output()\n",
    "    \n",
    "Note that clear_output() will only work in jupyter. To clear the screen in other IDEs, consider:\n",
    "\n",
    "    print('\\n'*100)\n",
    "    \n",
    "This scrolls the previous board up out of view. Now on to the program!"
   ]
  },
  {
   "cell_type": "markdown",
   "metadata": {},
   "source": [
    "**Step 1: Write a function that can print out a board. Set up your board as a list, where each index 1-9 corresponds with a number on a number pad, so you get a 3 by 3 board representation.**"
   ]
  },
  {
   "cell_type": "code",
   "execution_count": 67,
   "metadata": {},
   "outputs": [
    {
     "name": "stdout",
     "output_type": "stream",
     "text": [
      "\n",
      "\n",
      "  X  |  O  |  X   \n",
      " –––––––––––––––\n",
      "  O  |  X  |  O   \n",
      " –––––––––––––––\n",
      "  X  |  O  |  X  \n",
      "\n"
     ]
    }
   ],
   "source": [
    "from IPython.display import clear_output\n",
    "\n",
    "def display_board(board):\n",
    "    top = {\"1\": f\"  {board[1]}  |\", \"2\": f\" {board[2]}  |\", \"3\": f\" {board[3]}  \"}\n",
    "    middle = {\"4\": f\"  {board[4]}  |\", \"5\": f\" {board[5]}  |\", \"6\": f\" {board[6]}  \"}\n",
    "    bottom = {\"7\": f\"  {board[7]}  |\", \"8\": f\" {board[8]}  |\", \"9\": f\" {board[9]} \"}\n",
    "    divider = \"–––––––––––––––\"\n",
    "    print(\"\\n\")\n",
    "    for i in top:\n",
    "        print(top[i], end=\" \")\n",
    "    print(f'\\n {divider}')\n",
    "    for i in middle:\n",
    "        print(middle[i], end=\" \")\n",
    "    print(f'\\n {divider}')\n",
    "    for i in bottom:\n",
    "        print(bottom[i], end=\" \")\n",
    "    print(\"\\n\")\n",
    "test_board = ['#','X','O','X','O','X','O','X','O','X']\n",
    "display_board(test_board)"
   ]
  },
  {
   "cell_type": "markdown",
   "metadata": {},
   "source": [
    "**TEST Step 1:** run your function on a test version of the board list, and make adjustments as necessary"
   ]
  },
  {
   "cell_type": "code",
   "execution_count": 48,
   "metadata": {},
   "outputs": [
    {
     "name": "stdout",
     "output_type": "stream",
     "text": [
      "\n",
      "\n",
      "  -  |  O  |  O   \n",
      " –––––––––––––––\n",
      "  X  |  X  |  X   \n",
      " –––––––––––––––\n",
      "  O  |  X  |  O  "
     ]
    }
   ],
   "source": [
    "test_board = ['#','-','O','O','X','X','X','O','X','O']\n",
    "display_board(test_board)"
   ]
  },
  {
   "cell_type": "markdown",
   "metadata": {},
   "source": [
    "**Step 2: Write a function that can take in a player input and assign their marker as 'X' or 'O'. Think about using *while* loops to continually ask until you get a correct answer.**"
   ]
  },
  {
   "cell_type": "code",
   "execution_count": 50,
   "metadata": {},
   "outputs": [],
   "source": [
    "def player_input():\n",
    "    player1 = input(\"\\nPlease pick a marker 'X' or 'O'\")\n",
    "    while player1 is not 'X' and player1 is not 'O':\n",
    "        player1 = input(\"\\nPlease pick a marker 'X' or 'O'\")\n",
    "    else:\n",
    "        print(f'\\nPlayer 1 is {player1}')\n",
    "        return player1"
   ]
  },
  {
   "cell_type": "markdown",
   "metadata": {},
   "source": [
    "**TEST Step 2:** run the function to make sure it returns the desired output"
   ]
  },
  {
   "cell_type": "code",
   "execution_count": 51,
   "metadata": {},
   "outputs": [
    {
     "name": "stdout",
     "output_type": "stream",
     "text": [
      "\n",
      "Please pick a marker 'X' or 'O'O\n",
      "\n",
      "Player 1 is O\n"
     ]
    },
    {
     "data": {
      "text/plain": [
       "'O'"
      ]
     },
     "execution_count": 51,
     "metadata": {},
     "output_type": "execute_result"
    }
   ],
   "source": [
    "player_input()"
   ]
  },
  {
   "cell_type": "markdown",
   "metadata": {},
   "source": [
    "**Step 3: Write a function that takes in the board list object, a marker ('X' or 'O'), and a desired position (number 1-9) and assigns it to the board.**"
   ]
  },
  {
   "cell_type": "code",
   "execution_count": 52,
   "metadata": {},
   "outputs": [],
   "source": [
    "def place_marker(board, marker, position):\n",
    "    board[position] = marker"
   ]
  },
  {
   "cell_type": "markdown",
   "metadata": {},
   "source": [
    "**TEST Step 3:** run the place marker function using test parameters and display the modified board"
   ]
  },
  {
   "cell_type": "code",
   "execution_count": 53,
   "metadata": {},
   "outputs": [
    {
     "name": "stdout",
     "output_type": "stream",
     "text": [
      "\n",
      "\n",
      "  -  |  O  |  O   \n",
      " –––––––––––––––\n",
      "  X  |  X  |  X   \n",
      " –––––––––––––––\n",
      "  O  |  $  |  O  "
     ]
    }
   ],
   "source": [
    "place_marker(test_board,'$',8)\n",
    "display_board(test_board)"
   ]
  },
  {
   "cell_type": "markdown",
   "metadata": {},
   "source": [
    "**Step 4: Write a function that takes in a board and a mark (X or O) and then checks to see if that mark has won. **"
   ]
  },
  {
   "cell_type": "code",
   "execution_count": 54,
   "metadata": {},
   "outputs": [],
   "source": [
    "def win_check(board, mark):\n",
    "    if board[1] == board[2] == board[3] == mark:\n",
    "        print(f'\\n{mark} wins, top row')\n",
    "        return True\n",
    "    elif board[4] == board[5] == board[6] == mark:\n",
    "        print(f'\\n{mark} wins, middle row')\n",
    "        return True\n",
    "    elif board[7] == board[8] == board[9] == mark:\n",
    "        print(f'\\n{mark} wins, bottom row')\n",
    "        return True\n",
    "    elif board[1] == board[4] == board[7] == mark:\n",
    "        print(f'\\n{mark} wins, first col')\n",
    "        return True\n",
    "    elif board[2] == board[5] == board[8] == mark:\n",
    "        print(f'\\n{mark} wins, second col')\n",
    "        return True\n",
    "    elif board[3] == board[6] == board[9] == mark:\n",
    "        print(f'\\n{mark} wins, third col')\n",
    "        return True\n",
    "    elif board[1] == board[5] == board[9] == mark:\n",
    "        print(f'\\n{mark} wins, diagonally')\n",
    "        return True\n",
    "    elif board[3] == board[5] == board[7] == mark:\n",
    "        print(f'\\n{mark} wins, diagonally')\n",
    "        return True\n",
    "    else:\n",
    "        return False"
   ]
  },
  {
   "cell_type": "markdown",
   "metadata": {},
   "source": [
    "**TEST Step 4:** run the win_check function against our test_board - it should return True"
   ]
  },
  {
   "cell_type": "code",
   "execution_count": 55,
   "metadata": {},
   "outputs": [
    {
     "name": "stdout",
     "output_type": "stream",
     "text": [
      "\n",
      "X wins, middle row\n"
     ]
    },
    {
     "data": {
      "text/plain": [
       "True"
      ]
     },
     "execution_count": 55,
     "metadata": {},
     "output_type": "execute_result"
    }
   ],
   "source": [
    "win_check(test_board,'X')"
   ]
  },
  {
   "cell_type": "markdown",
   "metadata": {},
   "source": [
    "**Step 5: Write a function that uses the random module to randomly decide which player goes first. You may want to lookup random.randint() Return a string of which player went first.**"
   ]
  },
  {
   "cell_type": "code",
   "execution_count": 56,
   "metadata": {},
   "outputs": [
    {
     "name": "stdout",
     "output_type": "stream",
     "text": [
      "\n",
      "Player 2 goes first\n"
     ]
    },
    {
     "data": {
      "text/plain": [
       "2"
      ]
     },
     "execution_count": 56,
     "metadata": {},
     "output_type": "execute_result"
    }
   ],
   "source": [
    "import random\n",
    "\n",
    "def choose_first():\n",
    "    first = random.randint(1,2)\n",
    "    print(f'\\nPlayer {first} goes first')\n",
    "    return first\n",
    "choose_first()"
   ]
  },
  {
   "cell_type": "markdown",
   "metadata": {},
   "source": [
    "**Step 6: Write a function that returns a boolean indicating whether a space on the board is freely available.**"
   ]
  },
  {
   "cell_type": "code",
   "execution_count": 58,
   "metadata": {},
   "outputs": [
    {
     "name": "stdout",
     "output_type": "stream",
     "text": [
      "\n",
      "That space is taken\n",
      "\n",
      "\n",
      "  -  |  O  |  O   \n",
      " –––––––––––––––\n",
      "  X  |  X  |  X   \n",
      " –––––––––––––––\n",
      "  O  |  $  |  O  "
     ]
    }
   ],
   "source": [
    "def space_check(board, position):\n",
    "    position = int(position)\n",
    "    if board[position] == 'X':\n",
    "        print(\"\\nThat space is taken\")\n",
    "        return False\n",
    "    elif board[position] == 'O':\n",
    "        print(\"\\nThat space is taken\")\n",
    "        return False\n",
    "    else:\n",
    "        return True\n",
    "space_check(test_board, 2)\n",
    "display_board(test_board)"
   ]
  },
  {
   "cell_type": "markdown",
   "metadata": {},
   "source": [
    "**Step 7: Write a function that checks if the board is full and returns a boolean value. True if full, False otherwise.**"
   ]
  },
  {
   "cell_type": "code",
   "execution_count": 59,
   "metadata": {},
   "outputs": [
    {
     "data": {
      "text/plain": [
       "False"
      ]
     },
     "execution_count": 59,
     "metadata": {},
     "output_type": "execute_result"
    }
   ],
   "source": [
    "def full_board_check(board):\n",
    "    full = False\n",
    "    for i in range(1,10):\n",
    "        if board[i] == 'X':\n",
    "            full = True\n",
    "        elif board[i] == 'O':\n",
    "            full = True\n",
    "        else:\n",
    "            full = False\n",
    "            break\n",
    "    if full == True:\n",
    "        return True\n",
    "    else:\n",
    "        return False\n",
    "full_board_check(test_board)"
   ]
  },
  {
   "cell_type": "markdown",
   "metadata": {},
   "source": [
    "**Step 8: Write a function that asks for a player's next position (as a number 1-9) and then uses the function from step 6 to check if it's a free position. If it is, then return the position for later use.**"
   ]
  },
  {
   "cell_type": "code",
   "execution_count": 71,
   "metadata": {},
   "outputs": [
    {
     "name": "stdout",
     "output_type": "stream",
     "text": [
      "Choose your next move (1-9):  8\n",
      "\n",
      "That space is taken\n",
      "\n",
      "Choose another space\n",
      "\n",
      "Choose your next move (1-9):  1\n",
      "\n",
      "That space is taken\n",
      "\n",
      "Choose another space\n",
      "\n",
      "Choose your next move (1-9):  2\n",
      "\n",
      "That space is taken\n",
      "\n",
      "Choose another space\n",
      "\n",
      "Choose your next move (1-9):  3\n",
      "\n",
      "That space is taken\n",
      "\n",
      "Choose another space\n",
      "\n",
      "Choose your next move (1-9):  4\n",
      "\n",
      "That space is taken\n",
      "\n",
      "Choose another space\n",
      "\n",
      "Choose your next move (1-9):  5\n",
      "\n",
      "That space is taken\n",
      "\n",
      "Choose another space\n",
      "\n",
      "Choose your next move (1-9):  6\n",
      "\n",
      "That space is taken\n",
      "\n",
      "Choose another space\n",
      "\n",
      "Choose your next move (1-9):  7\n",
      "\n",
      "That space is taken\n",
      "\n",
      "Choose another space\n",
      "\n",
      "Choose your next move (1-9):  8\n",
      "\n",
      "That space is taken\n",
      "\n",
      "Choose another space\n",
      "\n",
      "Choose your next move (1-9):  9\n",
      "\n",
      "That space is taken\n",
      "\n",
      "Choose another space\n"
     ]
    },
    {
     "ename": "KeyboardInterrupt",
     "evalue": "",
     "output_type": "error",
     "traceback": [
      "\u001b[0;31m---------------------------------------------------------------------------\u001b[0m",
      "\u001b[0;31mKeyboardInterrupt\u001b[0m                         Traceback (most recent call last)",
      "\u001b[0;32m/anaconda3/lib/python3.7/site-packages/ipykernel/kernelbase.py\u001b[0m in \u001b[0;36m_input_request\u001b[0;34m(self, prompt, ident, parent, password)\u001b[0m\n\u001b[1;32m    877\u001b[0m             \u001b[0;32mtry\u001b[0m\u001b[0;34m:\u001b[0m\u001b[0;34m\u001b[0m\u001b[0;34m\u001b[0m\u001b[0m\n\u001b[0;32m--> 878\u001b[0;31m                 \u001b[0mident\u001b[0m\u001b[0;34m,\u001b[0m \u001b[0mreply\u001b[0m \u001b[0;34m=\u001b[0m \u001b[0mself\u001b[0m\u001b[0;34m.\u001b[0m\u001b[0msession\u001b[0m\u001b[0;34m.\u001b[0m\u001b[0mrecv\u001b[0m\u001b[0;34m(\u001b[0m\u001b[0mself\u001b[0m\u001b[0;34m.\u001b[0m\u001b[0mstdin_socket\u001b[0m\u001b[0;34m,\u001b[0m \u001b[0;36m0\u001b[0m\u001b[0;34m)\u001b[0m\u001b[0;34m\u001b[0m\u001b[0;34m\u001b[0m\u001b[0m\n\u001b[0m\u001b[1;32m    879\u001b[0m             \u001b[0;32mexcept\u001b[0m \u001b[0mException\u001b[0m\u001b[0;34m:\u001b[0m\u001b[0;34m\u001b[0m\u001b[0;34m\u001b[0m\u001b[0m\n",
      "\u001b[0;32m/anaconda3/lib/python3.7/site-packages/jupyter_client/session.py\u001b[0m in \u001b[0;36mrecv\u001b[0;34m(self, socket, mode, content, copy)\u001b[0m\n\u001b[1;32m    802\u001b[0m         \u001b[0;32mtry\u001b[0m\u001b[0;34m:\u001b[0m\u001b[0;34m\u001b[0m\u001b[0;34m\u001b[0m\u001b[0m\n\u001b[0;32m--> 803\u001b[0;31m             \u001b[0mmsg_list\u001b[0m \u001b[0;34m=\u001b[0m \u001b[0msocket\u001b[0m\u001b[0;34m.\u001b[0m\u001b[0mrecv_multipart\u001b[0m\u001b[0;34m(\u001b[0m\u001b[0mmode\u001b[0m\u001b[0;34m,\u001b[0m \u001b[0mcopy\u001b[0m\u001b[0;34m=\u001b[0m\u001b[0mcopy\u001b[0m\u001b[0;34m)\u001b[0m\u001b[0;34m\u001b[0m\u001b[0;34m\u001b[0m\u001b[0m\n\u001b[0m\u001b[1;32m    804\u001b[0m         \u001b[0;32mexcept\u001b[0m \u001b[0mzmq\u001b[0m\u001b[0;34m.\u001b[0m\u001b[0mZMQError\u001b[0m \u001b[0;32mas\u001b[0m \u001b[0me\u001b[0m\u001b[0;34m:\u001b[0m\u001b[0;34m\u001b[0m\u001b[0;34m\u001b[0m\u001b[0m\n",
      "\u001b[0;32m/anaconda3/lib/python3.7/site-packages/zmq/sugar/socket.py\u001b[0m in \u001b[0;36mrecv_multipart\u001b[0;34m(self, flags, copy, track)\u001b[0m\n\u001b[1;32m    469\u001b[0m         \"\"\"\n\u001b[0;32m--> 470\u001b[0;31m         \u001b[0mparts\u001b[0m \u001b[0;34m=\u001b[0m \u001b[0;34m[\u001b[0m\u001b[0mself\u001b[0m\u001b[0;34m.\u001b[0m\u001b[0mrecv\u001b[0m\u001b[0;34m(\u001b[0m\u001b[0mflags\u001b[0m\u001b[0;34m,\u001b[0m \u001b[0mcopy\u001b[0m\u001b[0;34m=\u001b[0m\u001b[0mcopy\u001b[0m\u001b[0;34m,\u001b[0m \u001b[0mtrack\u001b[0m\u001b[0;34m=\u001b[0m\u001b[0mtrack\u001b[0m\u001b[0;34m)\u001b[0m\u001b[0;34m]\u001b[0m\u001b[0;34m\u001b[0m\u001b[0;34m\u001b[0m\u001b[0m\n\u001b[0m\u001b[1;32m    471\u001b[0m         \u001b[0;31m# have first part already, only loop while more to receive\u001b[0m\u001b[0;34m\u001b[0m\u001b[0;34m\u001b[0m\u001b[0;34m\u001b[0m\u001b[0m\n",
      "\u001b[0;32mzmq/backend/cython/socket.pyx\u001b[0m in \u001b[0;36mzmq.backend.cython.socket.Socket.recv\u001b[0;34m()\u001b[0m\n",
      "\u001b[0;32mzmq/backend/cython/socket.pyx\u001b[0m in \u001b[0;36mzmq.backend.cython.socket.Socket.recv\u001b[0;34m()\u001b[0m\n",
      "\u001b[0;32mzmq/backend/cython/socket.pyx\u001b[0m in \u001b[0;36mzmq.backend.cython.socket._recv_copy\u001b[0;34m()\u001b[0m\n",
      "\u001b[0;32m/anaconda3/lib/python3.7/site-packages/zmq/backend/cython/checkrc.pxd\u001b[0m in \u001b[0;36mzmq.backend.cython.checkrc._check_rc\u001b[0;34m()\u001b[0m\n",
      "\u001b[0;31mKeyboardInterrupt\u001b[0m: ",
      "\nDuring handling of the above exception, another exception occurred:\n",
      "\u001b[0;31mKeyboardInterrupt\u001b[0m                         Traceback (most recent call last)",
      "\u001b[0;32m<ipython-input-71-17250831d538>\u001b[0m in \u001b[0;36m<module>\u001b[0;34m\u001b[0m\n\u001b[1;32m      6\u001b[0m     \u001b[0;32melse\u001b[0m\u001b[0;34m:\u001b[0m\u001b[0;34m\u001b[0m\u001b[0;34m\u001b[0m\u001b[0m\n\u001b[1;32m      7\u001b[0m         \u001b[0;32mreturn\u001b[0m \u001b[0mint\u001b[0m\u001b[0;34m(\u001b[0m\u001b[0mposition\u001b[0m\u001b[0;34m)\u001b[0m\u001b[0;34m\u001b[0m\u001b[0;34m\u001b[0m\u001b[0m\n\u001b[0;32m----> 8\u001b[0;31m \u001b[0mplayer_choice\u001b[0m\u001b[0;34m(\u001b[0m\u001b[0mtest_board\u001b[0m\u001b[0;34m)\u001b[0m\u001b[0;34m\u001b[0m\u001b[0;34m\u001b[0m\u001b[0m\n\u001b[0m",
      "\u001b[0;32m<ipython-input-71-17250831d538>\u001b[0m in \u001b[0;36mplayer_choice\u001b[0;34m(board)\u001b[0m\n\u001b[1;32m      3\u001b[0m     \u001b[0;32mwhile\u001b[0m \u001b[0mspace_check\u001b[0m\u001b[0;34m(\u001b[0m\u001b[0mboard\u001b[0m\u001b[0;34m,\u001b[0m \u001b[0mposition\u001b[0m\u001b[0;34m)\u001b[0m \u001b[0;34m==\u001b[0m \u001b[0;32mFalse\u001b[0m\u001b[0;34m:\u001b[0m\u001b[0;34m\u001b[0m\u001b[0;34m\u001b[0m\u001b[0m\n\u001b[1;32m      4\u001b[0m         \u001b[0mprint\u001b[0m\u001b[0;34m(\u001b[0m\u001b[0;34m\"\\nChoose another space\"\u001b[0m\u001b[0;34m)\u001b[0m\u001b[0;34m\u001b[0m\u001b[0;34m\u001b[0m\u001b[0m\n\u001b[0;32m----> 5\u001b[0;31m         \u001b[0mposition\u001b[0m \u001b[0;34m=\u001b[0m \u001b[0minput\u001b[0m\u001b[0;34m(\u001b[0m\u001b[0;34m\"\\nChoose your next move (1-9):  \"\u001b[0m\u001b[0;34m)\u001b[0m\u001b[0;34m\u001b[0m\u001b[0;34m\u001b[0m\u001b[0m\n\u001b[0m\u001b[1;32m      6\u001b[0m     \u001b[0;32melse\u001b[0m\u001b[0;34m:\u001b[0m\u001b[0;34m\u001b[0m\u001b[0;34m\u001b[0m\u001b[0m\n\u001b[1;32m      7\u001b[0m         \u001b[0;32mreturn\u001b[0m \u001b[0mint\u001b[0m\u001b[0;34m(\u001b[0m\u001b[0mposition\u001b[0m\u001b[0;34m)\u001b[0m\u001b[0;34m\u001b[0m\u001b[0;34m\u001b[0m\u001b[0m\n",
      "\u001b[0;32m/anaconda3/lib/python3.7/site-packages/ipykernel/kernelbase.py\u001b[0m in \u001b[0;36mraw_input\u001b[0;34m(self, prompt)\u001b[0m\n\u001b[1;32m    851\u001b[0m             \u001b[0mself\u001b[0m\u001b[0;34m.\u001b[0m\u001b[0m_parent_ident\u001b[0m\u001b[0;34m,\u001b[0m\u001b[0;34m\u001b[0m\u001b[0;34m\u001b[0m\u001b[0m\n\u001b[1;32m    852\u001b[0m             \u001b[0mself\u001b[0m\u001b[0;34m.\u001b[0m\u001b[0m_parent_header\u001b[0m\u001b[0;34m,\u001b[0m\u001b[0;34m\u001b[0m\u001b[0;34m\u001b[0m\u001b[0m\n\u001b[0;32m--> 853\u001b[0;31m             \u001b[0mpassword\u001b[0m\u001b[0;34m=\u001b[0m\u001b[0;32mFalse\u001b[0m\u001b[0;34m,\u001b[0m\u001b[0;34m\u001b[0m\u001b[0;34m\u001b[0m\u001b[0m\n\u001b[0m\u001b[1;32m    854\u001b[0m         )\n\u001b[1;32m    855\u001b[0m \u001b[0;34m\u001b[0m\u001b[0m\n",
      "\u001b[0;32m/anaconda3/lib/python3.7/site-packages/ipykernel/kernelbase.py\u001b[0m in \u001b[0;36m_input_request\u001b[0;34m(self, prompt, ident, parent, password)\u001b[0m\n\u001b[1;32m    881\u001b[0m             \u001b[0;32mexcept\u001b[0m \u001b[0mKeyboardInterrupt\u001b[0m\u001b[0;34m:\u001b[0m\u001b[0;34m\u001b[0m\u001b[0;34m\u001b[0m\u001b[0m\n\u001b[1;32m    882\u001b[0m                 \u001b[0;31m# re-raise KeyboardInterrupt, to truncate traceback\u001b[0m\u001b[0;34m\u001b[0m\u001b[0;34m\u001b[0m\u001b[0;34m\u001b[0m\u001b[0m\n\u001b[0;32m--> 883\u001b[0;31m                 \u001b[0;32mraise\u001b[0m \u001b[0mKeyboardInterrupt\u001b[0m\u001b[0;34m\u001b[0m\u001b[0;34m\u001b[0m\u001b[0m\n\u001b[0m\u001b[1;32m    884\u001b[0m             \u001b[0;32melse\u001b[0m\u001b[0;34m:\u001b[0m\u001b[0;34m\u001b[0m\u001b[0;34m\u001b[0m\u001b[0m\n\u001b[1;32m    885\u001b[0m                 \u001b[0;32mbreak\u001b[0m\u001b[0;34m\u001b[0m\u001b[0;34m\u001b[0m\u001b[0m\n",
      "\u001b[0;31mKeyboardInterrupt\u001b[0m: "
     ]
    }
   ],
   "source": [
    "def player_choice(board):\n",
    "    position = input(\"Choose your next move (1-9):  \")\n",
    "    while space_check(board, position) == False:\n",
    "        print(\"\\nChoose another space\")\n",
    "        position = input(\"\\nChoose your next move (1-9):  \")\n",
    "    else:\n",
    "        return int(position)\n",
    "player_choice(test_board)"
   ]
  },
  {
   "cell_type": "markdown",
   "metadata": {},
   "source": [
    "**Step 9: Write a function that asks the player if they want to play again and returns a boolean True if they do want to play again.**"
   ]
  },
  {
   "cell_type": "code",
   "execution_count": 70,
   "metadata": {},
   "outputs": [
    {
     "name": "stdout",
     "output_type": "stream",
     "text": [
      "\n",
      "Do you want to play again? (y/n)n\n",
      "\n",
      "OK :( game over\n"
     ]
    },
    {
     "data": {
      "text/plain": [
       "False"
      ]
     },
     "execution_count": 70,
     "metadata": {},
     "output_type": "execute_result"
    }
   ],
   "source": [
    "def replay():\n",
    "    again = input(\"\\nDo you want to play again? (y/n)\")\n",
    "    if again.lower() == 'y':\n",
    "        print('\\nOK! rematch')\n",
    "        return True\n",
    "    else:\n",
    "        print(\"\\nOK :( game over\")\n",
    "        return False\n",
    "replay()"
   ]
  },
  {
   "cell_type": "markdown",
   "metadata": {
    "collapsed": true
   },
   "source": [
    "**Step 10: Here comes the hard part! Use while loops and the functions you've made to run the game!**"
   ]
  },
  {
   "cell_type": "code",
   "execution_count": 69,
   "metadata": {},
   "outputs": [
    {
     "name": "stdout",
     "output_type": "stream",
     "text": [
      "Welcome to Tic Tac Toe!\n",
      "\n",
      "\n",
      "  1  |  2  |  3   \n",
      " –––––––––––––––\n",
      "  4  |  5  |  6   \n",
      " –––––––––––––––\n",
      "  7  |  8  |  9  \n",
      "\n",
      "\n",
      "Please pick a marker 'X' or 'O'X\n",
      "\n",
      "Player 1 is X\n",
      "\n",
      "Player 2 goes first\n",
      "\n",
      "\n",
      "Player 2:\n",
      "Choose your next move (1-9)1\n",
      "\n",
      "\n",
      "  O  |  2  |  3   \n",
      " –––––––––––––––\n",
      "  4  |  5  |  6   \n",
      " –––––––––––––––\n",
      "  7  |  8  |  9  \n",
      "\n",
      "\n",
      "Player 1:\n",
      "Choose your next move (1-9)2\n",
      "\n",
      "\n",
      "  O  |  X  |  3   \n",
      " –––––––––––––––\n",
      "  4  |  5  |  6   \n",
      " –––––––––––––––\n",
      "  7  |  8  |  9  \n",
      "\n",
      "\n",
      "\n",
      "Player 2:\n",
      "Choose your next move (1-9)3\n",
      "\n",
      "\n",
      "  O  |  X  |  O   \n",
      " –––––––––––––––\n",
      "  4  |  5  |  6   \n",
      " –––––––––––––––\n",
      "  7  |  8  |  9  \n",
      "\n",
      "\n",
      "Player 1:\n",
      "Choose your next move (1-9)4\n",
      "\n",
      "\n",
      "  O  |  X  |  O   \n",
      " –––––––––––––––\n",
      "  X  |  5  |  6   \n",
      " –––––––––––––––\n",
      "  7  |  8  |  9  \n",
      "\n",
      "\n",
      "\n",
      "Player 2:\n",
      "Choose your next move (1-9)5\n",
      "\n",
      "\n",
      "  O  |  X  |  O   \n",
      " –––––––––––––––\n",
      "  X  |  O  |  6   \n",
      " –––––––––––––––\n",
      "  7  |  8  |  9  \n",
      "\n",
      "\n",
      "Player 1:\n",
      "Choose your next move (1-9)8\n",
      "\n",
      "\n",
      "  O  |  X  |  O   \n",
      " –––––––––––––––\n",
      "  X  |  O  |  6   \n",
      " –––––––––––––––\n",
      "  7  |  X  |  9  \n",
      "\n",
      "\n",
      "\n",
      "Player 2:\n",
      "Choose your next move (1-9)6\n",
      "\n",
      "\n",
      "  O  |  X  |  O   \n",
      " –––––––––––––––\n",
      "  X  |  O  |  O   \n",
      " –––––––––––––––\n",
      "  7  |  X  |  9  \n",
      "\n",
      "\n",
      "Player 1:\n",
      "Choose your next move (1-9)7\n",
      "\n",
      "\n",
      "  O  |  X  |  O   \n",
      " –––––––––––––––\n",
      "  X  |  O  |  O   \n",
      " –––––––––––––––\n",
      "  X  |  X  |  9  \n",
      "\n",
      "\n",
      "\n",
      "Player 2:\n",
      "Choose your next move (1-9)9\n",
      "\n",
      "\n",
      "  O  |  X  |  O   \n",
      " –––––––––––––––\n",
      "  X  |  O  |  O   \n",
      " –––––––––––––––\n",
      "  X  |  X  |  O  \n",
      "\n",
      "\n",
      "O wins, third col\n",
      "\n",
      "Player 2 wins\n",
      "\n",
      "Do you want to play again? (y/n)y\n",
      "\n",
      "OK! rematch\n",
      "\n",
      "\n",
      "  1  |  2  |  3   \n",
      " –––––––––––––––\n",
      "  4  |  5  |  6   \n",
      " –––––––––––––––\n",
      "  7  |  8  |  9  \n",
      "\n",
      "\n",
      "Please pick a marker 'X' or 'O'X\n",
      "\n",
      "Player 1 is X\n",
      "\n",
      "Player 1 goes first\n",
      "\n",
      "Player 1:\n",
      "Choose your next move (1-9)1\n",
      "\n",
      "\n",
      "  X  |  2  |  3   \n",
      " –––––––––––––––\n",
      "  4  |  5  |  6   \n",
      " –––––––––––––––\n",
      "  7  |  8  |  9  \n",
      "\n",
      "\n",
      "\n",
      "Player 2:\n",
      "Choose your next move (1-9)2\n",
      "\n",
      "\n",
      "  X  |  O  |  3   \n",
      " –––––––––––––––\n",
      "  4  |  5  |  6   \n",
      " –––––––––––––––\n",
      "  7  |  8  |  9  \n",
      "\n",
      "\n",
      "Player 1:\n",
      "Choose your next move (1-9)3\n",
      "\n",
      "\n",
      "  X  |  O  |  X   \n",
      " –––––––––––––––\n",
      "  4  |  5  |  6   \n",
      " –––––––––––––––\n",
      "  7  |  8  |  9  \n",
      "\n",
      "\n",
      "\n",
      "Player 2:\n",
      "Choose your next move (1-9)4\n",
      "\n",
      "\n",
      "  X  |  O  |  X   \n",
      " –––––––––––––––\n",
      "  O  |  5  |  6   \n",
      " –––––––––––––––\n",
      "  7  |  8  |  9  \n",
      "\n",
      "\n",
      "Player 1:\n",
      "Choose your next move (1-9)5\n",
      "\n",
      "\n",
      "  X  |  O  |  X   \n",
      " –––––––––––––––\n",
      "  O  |  X  |  6   \n",
      " –––––––––––––––\n",
      "  7  |  8  |  9  \n",
      "\n",
      "\n",
      "\n",
      "Player 2:\n",
      "Choose your next move (1-9)6\n",
      "\n",
      "\n",
      "  X  |  O  |  X   \n",
      " –––––––––––––––\n",
      "  O  |  X  |  O   \n",
      " –––––––––––––––\n",
      "  7  |  8  |  9  \n",
      "\n",
      "\n",
      "Player 1:\n",
      "Choose your next move (1-9)7\n",
      "\n",
      "\n",
      "  X  |  O  |  X   \n",
      " –––––––––––––––\n",
      "  O  |  X  |  O   \n",
      " –––––––––––––––\n",
      "  X  |  8  |  9  \n",
      "\n",
      "\n",
      "X wins, diagonally\n",
      "\n",
      "Player 1 wins\n",
      "\n",
      "Do you want to play again? (y/n)n\n",
      "\n",
      "OK :( bye then\n"
     ]
    }
   ],
   "source": [
    "print('Welcome to Tic Tac Toe!')\n",
    "player1 = 'none'\n",
    "player2 = 'none'\n",
    "game = True\n",
    "#while True:\n",
    "while game == True:\n",
    "    # Set the game up here\n",
    "    board = ['#', '1', '2', '3', '4', '5', '6', '7', '8', '9']\n",
    "    display_board(board)\n",
    "    player1 = player_input()\n",
    "    if player1 == 'X':\n",
    "        player2 = 'O'\n",
    "    else:\n",
    "        player2 = 'X'\n",
    "    turn = choose_first()\n",
    "    game_on = True\n",
    "    game = False\n",
    "    while game_on == True:\n",
    "        if turn == 1:\n",
    "            print('\\nPlayer 1:')\n",
    "            choice = player_choice(board)\n",
    "            place_marker(board, player1, choice)\n",
    "            display_board(board)\n",
    "            if win_check(board, player1):\n",
    "                print(\"\\nPlayer 1 wins\")\n",
    "                game_on = False\n",
    "            elif full_board_check(board):\n",
    "                print(\"Stalemate\")\n",
    "                game_on = False\n",
    "            else:\n",
    "                turn = 2\n",
    "        else:\n",
    "            print('\\n\\nPlayer 2:')\n",
    "            choice = player_choice(board)\n",
    "            place_marker(board, player2, choice)\n",
    "            display_board(board)\n",
    "            if win_check(board, player2):\n",
    "                game_on = False\n",
    "                print(\"\\nPlayer 2 wins\")\n",
    "            elif full_board_check(board):\n",
    "                print(\"Stalemate\")\n",
    "                game_on = False\n",
    "            else:\n",
    "                turn = 1\n",
    "    else:\n",
    "        game = replay()"
   ]
  },
  {
   "cell_type": "markdown",
   "metadata": {
    "collapsed": true
   },
   "source": [
    "## Good Job!"
   ]
  }
 ],
 "metadata": {
  "kernelspec": {
   "display_name": "Python 3",
   "language": "python",
   "name": "python3"
  },
  "language_info": {
   "codemirror_mode": {
    "name": "ipython",
    "version": 3
   },
   "file_extension": ".py",
   "mimetype": "text/x-python",
   "name": "python",
   "nbconvert_exporter": "python",
   "pygments_lexer": "ipython3",
   "version": "3.7.3"
  }
 },
 "nbformat": 4,
 "nbformat_minor": 1
}
